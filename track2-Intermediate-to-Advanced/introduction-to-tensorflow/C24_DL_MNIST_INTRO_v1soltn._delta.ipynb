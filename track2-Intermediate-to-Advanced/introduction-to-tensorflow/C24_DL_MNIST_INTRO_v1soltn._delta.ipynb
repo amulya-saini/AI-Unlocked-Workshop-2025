{
 "cells": [
  {
   "cell_type": "markdown",
   "metadata": {},
   "source": [
    "## MNIST exercise (handwritten printed digits recognition tutorial) ##\n",
    "**Goal: Introduction to Keras, convolution feature maps, and features**\n",
    "\n",
    "**Exercise:**\n",
    "    \n",
    "1. Review the steps of the code in this notebook\n",
    "2. Look for the model.Sequential statement \n",
    "   and fill in the blanks: <br>\n",
    "3. run the notebook, observe the images of filter weights and activations (at end)\n",
    "4. Try changing the filter size for the first convolution layer to something large (like 9x9 or 16x16)\n",
    "        How does that change the images of filter weights and activations?\n",
    "<br>\n",
    "Question to consider: for 10 digits what is min number of filters needed?\n",
    "\n"
   ]
  },
  {
   "cell_type": "code",
   "execution_count": 1,
   "metadata": {
    "tags": []
   },
   "outputs": [
    {
     "name": "stderr",
     "output_type": "stream",
     "text": [
      "2025-04-03 00:08:43.933856: E tensorflow/compiler/xla/stream_executor/cuda/cuda_dnn.cc:9342] Unable to register cuDNN factory: Attempting to register factory for plugin cuDNN when one has already been registered\n",
      "2025-04-03 00:08:43.933886: E tensorflow/compiler/xla/stream_executor/cuda/cuda_fft.cc:609] Unable to register cuFFT factory: Attempting to register factory for plugin cuFFT when one has already been registered\n",
      "2025-04-03 00:08:43.939425: E tensorflow/compiler/xla/stream_executor/cuda/cuda_blas.cc:1518] Unable to register cuBLAS factory: Attempting to register factory for plugin cuBLAS when one has already been registered\n",
      "2025-04-03 00:08:44.269943: I tensorflow/core/platform/cpu_feature_guard.cc:182] This TensorFlow binary is optimized to use available CPU instructions in performance-critical operations.\n",
      "To enable the following instructions: AVX2 FMA, in other operations, rebuild TensorFlow with the appropriate compiler flags.\n"
     ]
    },
    {
     "name": "stdout",
     "output_type": "stream",
     "text": [
      "import done\n"
     ]
    }
   ],
   "source": [
    "\n",
    "# ----------- IMPORT STATEMENTS ---------------\n",
    "import numpy as np\n",
    "np.random.seed(1)  # for reproducibility\n",
    " \n",
    "from tensorflow import keras\n",
    "import tensorflow as tf\n",
    "import datetime, os\n",
    "\n",
    "\n",
    "#---------------------------------------------\n",
    "print('import done')"
   ]
  },
  {
   "cell_type": "code",
   "execution_count": 2,
   "metadata": {
    "tags": []
   },
   "outputs": [
    {
     "name": "stdout",
     "output_type": "stream",
     "text": [
      "X train shape: (1000, 28, 28, 1)\n",
      "X test shape: (10000, 28, 28, 1)\n"
     ]
    }
   ],
   "source": [
    "#Load MNIST data from Keras datasets\n",
    "(X_train, Y_train), (X_test, Y_test) = tf.keras.datasets.mnist.load_data()\n",
    "\n",
    "X_train=X_train[0:1000,]  #only need smaller subset to get good results\n",
    "Y_train=Y_train[0:1000,]\n",
    "\n",
    "# --------- Reshape input data, b/c Keras expects N-3D images (ie 4D matrix)\n",
    "X_train = X_train[:,:,:,np.newaxis]\n",
    "X_test  = X_test[:,:,:,np.newaxis]\n",
    "\n",
    "#Scale 0 to 1  - or should we not scale\n",
    "X_train = X_train/255.0\n",
    "X_test  = X_test/255.0\n",
    "\n",
    "# Convert 1-dimensional class arrays to 10-dimensional class matrices\n",
    "Y_train = keras.utils.to_categorical(Y_train, 10)\n",
    "Y_test  = keras.utils.to_categorical(Y_test,  10)\n",
    "\n",
    "# ------------- End loading and preparing data --------------\n",
    "print('X train shape:', X_train.shape) \n",
    "print('X test shape:', X_test.shape) \n"
   ]
  },
  {
   "cell_type": "markdown",
   "metadata": {},
   "source": [
    "## 1 Fill in the blanks for the convolution parameters\n",
    "\n",
    "Follow the URL link to see the Keras api documentation for command format\n",
    "\n",
    "https://keras.io/api/layers/convolution_layers/convolution2d/\n",
    "\n",
    "\n",
    "Try for example, 32,16 or 8 filters\n",
    "Try 3x3 or 9x9 or 16x16 filter sizes\n",
    "\n",
    "NOTE that we are using a function to build the model, which will be useful later\n",
    "\n",
    "##  2 Change the optimizer to use Adam\n",
    "Notice that Keras parameters can sometimes be filled in with a string (like 'adam') or sometimes with function like keras.optimizers.Adam(learning_rate=0.01).\n",
    "See the example at this link:\n",
    "\n",
    "https://keras.io/api/optimizers/"
   ]
  },
  {
   "cell_type": "code",
   "execution_count": 3,
   "metadata": {
    "tags": []
   },
   "outputs": [],
   "source": [
    "# --------------Set up Model ---------------------\n",
    "def build_model(numfilters):\n",
    "    mymodel = keras.models.Sequential()\n",
    "    mymodel.add(keras.layers.Convolution2D(numfilters,      #<<<< ------ 1\n",
    "                                       (3, 3),\n",
    "                                       strides=1,  \n",
    "                                       data_format=\"channels_last\",\n",
    "                                       activation='relu', \n",
    "                                       input_shape=(28,28,1))) \n",
    "    mymodel.add(keras.layers.Convolution2D(numfilters,      #<<<< ------ 1\n",
    "                                       (3, 3),\n",
    "                                       strides=1,  \n",
    "                                       data_format=\"channels_last\",\n",
    "                                       activation='relu')) \n",
    "    mymodel.add(keras.layers.MaxPooling2D(pool_size=(2,2),strides=2,data_format=\"channels_last\")) #get Max over 2D region,and slide\n",
    "    mymodel.add(keras.layers.Flatten())            #reorganize 2DxFilters output into 1D\n",
    "  \n",
    "    #----------------Now add final classification layers\n",
    "    mymodel.add(keras.layers.Dense(32, activation='relu'))   \n",
    "    mymodel.add(keras.layers.Dense(10, activation='softmax'))\n",
    "    \n",
    "    # --------- Now configure model algorithm -----\n",
    "    mymodel.compile(loss='categorical_crossentropy',\n",
    "               optimizer=keras.optimizers.Adam(learning_rate=0.01),\n",
    "               metrics=['accuracy'])\n",
    "\n",
    "    return mymodel"
   ]
  },
  {
   "cell_type": "code",
   "execution_count": 4,
   "metadata": {
    "tags": []
   },
   "outputs": [
    {
     "name": "stdout",
     "output_type": "stream",
     "text": [
      "Model: \"sequential\"\n",
      "_________________________________________________________________\n",
      " Layer (type)                Output Shape              Param #   \n",
      "=================================================================\n",
      " conv2d (Conv2D)             (None, 26, 26, 16)        160       \n",
      "                                                                 \n",
      " conv2d_1 (Conv2D)           (None, 24, 24, 16)        2320      \n",
      "                                                                 \n",
      " max_pooling2d (MaxPooling2  (None, 12, 12, 16)        0         \n",
      " D)                                                              \n",
      "                                                                 \n",
      " flatten (Flatten)           (None, 2304)              0         \n",
      "                                                                 \n",
      " dense (Dense)               (None, 32)                73760     \n",
      "                                                                 \n",
      " dense_1 (Dense)             (None, 10)                330       \n",
      "                                                                 \n",
      "=================================================================\n",
      "Total params: 76570 (299.10 KB)\n",
      "Trainable params: 76570 (299.10 KB)\n",
      "Non-trainable params: 0 (0.00 Byte)\n",
      "_________________________________________________________________\n"
     ]
    },
    {
     "name": "stderr",
     "output_type": "stream",
     "text": [
      "2025-04-03 00:09:01.323553: I tensorflow/core/common_runtime/gpu/gpu_device.cc:1886] Created device /job:localhost/replica:0/task:0/device:GPU:0 with 38366 MB memory:  -> device: 0, name: NVIDIA A100-SXM4-40GB, pci bus id: 0000:07:00.0, compute capability: 8.0\n"
     ]
    }
   ],
   "source": [
    "# call the build model function\n",
    "mymodel = build_model(numfilters=16)     #<<<---------- set num filters argument here\n",
    "\n",
    "mymodel.summary()"
   ]
  },
  {
   "cell_type": "raw",
   "metadata": {},
   "source": [
    "## 3 Fill in parameters for the fit method of the model object\n",
    "\n",
    "Fill in the validation data and target, and callback function for Early Stopping\n",
    "\n",
    "View the URL model.fit documentation for detail\n",
    "\n",
    "https://keras.io/api/models/model_training_apis/#fit-method\n",
    "    "
   ]
  },
  {
   "cell_type": "code",
   "execution_count": 5,
   "metadata": {
    "tags": []
   },
   "outputs": [
    {
     "name": "stdout",
     "output_type": "stream",
     "text": [
      "Epoch 1/50\n"
     ]
    },
    {
     "name": "stderr",
     "output_type": "stream",
     "text": [
      "2025-04-03 00:09:10.409691: I tensorflow/compiler/xla/stream_executor/cuda/cuda_dnn.cc:442] Loaded cuDNN version 8900\n",
      "2025-04-03 00:09:11.970792: I tensorflow/compiler/xla/service/service.cc:168] XLA service 0x7f774803f0e0 initialized for platform CUDA (this does not guarantee that XLA will be used). Devices:\n",
      "2025-04-03 00:09:11.970820: I tensorflow/compiler/xla/service/service.cc:176]   StreamExecutor device (0): NVIDIA A100-SXM4-40GB, Compute Capability 8.0\n",
      "2025-04-03 00:09:11.987282: I tensorflow/compiler/mlir/tensorflow/utils/dump_mlir_util.cc:269] disabling MLIR crash reproducer, set env var `MLIR_CRASH_REPRODUCER_DIRECTORY` to enable.\n",
      "2025-04-03 00:09:12.118147: I ./tensorflow/compiler/jit/device_compiler.h:186] Compiled cluster using XLA!  This line is logged at most once for the lifetime of the process.\n"
     ]
    },
    {
     "name": "stdout",
     "output_type": "stream",
     "text": [
      "8/8 [==============================] - 4s 75ms/step - loss: 1.9770 - accuracy: 0.3510 - val_loss: 1.0923 - val_accuracy: 0.6663\n",
      "Epoch 2/50\n",
      "8/8 [==============================] - 0s 20ms/step - loss: 0.6532 - accuracy: 0.8080 - val_loss: 0.4953 - val_accuracy: 0.8588\n",
      "Epoch 3/50\n",
      "8/8 [==============================] - 0s 19ms/step - loss: 0.3200 - accuracy: 0.9060 - val_loss: 0.3566 - val_accuracy: 0.8903\n",
      "Epoch 4/50\n",
      "8/8 [==============================] - 0s 19ms/step - loss: 0.1695 - accuracy: 0.9500 - val_loss: 0.3042 - val_accuracy: 0.9063\n",
      "Epoch 5/50\n",
      "8/8 [==============================] - 0s 19ms/step - loss: 0.0935 - accuracy: 0.9740 - val_loss: 0.2838 - val_accuracy: 0.9215\n",
      "Epoch 6/50\n",
      "8/8 [==============================] - 0s 19ms/step - loss: 0.0419 - accuracy: 0.9870 - val_loss: 0.2880 - val_accuracy: 0.9271\n",
      "Epoch 7/50\n",
      "8/8 [==============================] - 0s 19ms/step - loss: 0.0210 - accuracy: 0.9930 - val_loss: 0.3256 - val_accuracy: 0.9206\n",
      "Epoch 8/50\n",
      "8/8 [==============================] - 0s 19ms/step - loss: 0.0090 - accuracy: 0.9980 - val_loss: 0.3482 - val_accuracy: 0.9203\n",
      "Epoch 9/50\n",
      "8/8 [==============================] - 0s 19ms/step - loss: 0.0023 - accuracy: 1.0000 - val_loss: 0.3767 - val_accuracy: 0.9220\n",
      "Epoch 10/50\n",
      "8/8 [==============================] - 0s 20ms/step - loss: 0.0020 - accuracy: 1.0000 - val_loss: 0.3818 - val_accuracy: 0.9256\n"
     ]
    }
   ],
   "source": [
    "myES_function = keras.callbacks.EarlyStopping(monitor='val_loss', mode='min', patience=5,  restore_best_weights=True) #patience before stopping\n",
    "\n",
    "#------------ Now Run Training\n",
    "fit_history=mymodel.fit(X_train, Y_train, \n",
    "          validation_data=(X_test,Y_test),\n",
    "          batch_size=128, epochs=50, verbose=1,callbacks=[myES_function])"
   ]
  },
  {
   "cell_type": "markdown",
   "metadata": {},
   "source": [
    "## The rest of this notebook is plotting and image displays"
   ]
  },
  {
   "cell_type": "code",
   "execution_count": 6,
   "metadata": {
    "tags": []
   },
   "outputs": [
    {
     "name": "stdout",
     "output_type": "stream",
     "text": [
      "dict_keys(['loss', 'accuracy', 'val_loss', 'val_accuracy'])\n"
     ]
    },
    {
     "data": {
      "image/png": "[encoded data removed]",
      "text/plain": [
       "<Figure size 640x480 with 1 Axes>"
      ]
     },
     "metadata": {},
     "output_type": "display_data"
    }
   ],
   "source": [
    "import matplotlib.pyplot as plt      #These provide matlab type of plotting functions\n",
    "import matplotlib.image as mpimg\n",
    "%matplotlib inline                   \n",
    "\n",
    "# list all data in history and print out performance\n",
    "print(fit_history.history.keys())\n",
    "numtraining_epochs=len(fit_history.history['accuracy'])\n",
    "# summarize history for accuracy\n",
    "plt.figure()\n",
    "plt.axis([0 ,numtraining_epochs, 0, 1])\n",
    "plt.plot(fit_history.history['accuracy'])\n",
    "plt.plot(fit_history.history['val_accuracy'])\n",
    "plt.title('model accuracy')\n",
    "plt.ylabel('accuracy')\n",
    "plt.xlabel('epoch')\n",
    "plt.legend(['train', 'val_test'], loc='upper left')\n",
    "plt.show()"
   ]
  },
  {
   "cell_type": "code",
   "execution_count": 7,
   "metadata": {
    "tags": []
   },
   "outputs": [],
   "source": [
    "#"
   ]
  },
  {
   "cell_type": "code",
   "execution_count": 8,
   "metadata": {
    "tags": []
   },
   "outputs": [
    {
     "data": {
      "text/plain": [
       "<matplotlib.image.AxesImage at 0x7f783031ffa0>"
      ]
     },
     "execution_count": 8,
     "metadata": {},
     "output_type": "execute_result"
    },
    {
     "data": {
      "image/png": "[encoded data removed]",
      "text/plain": [
       "<Figure size 640x480 with 1 Axes>"
      ]
     },
     "metadata": {},
     "output_type": "display_data"
    }
   ],
   "source": [
    "#To view a sample image\n",
    "import matplotlib.pyplot as plt      #These provide matlab type of plotting functions\n",
    "import matplotlib.image as mpimg\n",
    "\n",
    "tmpimg=np.squeeze(X_train[0,:,:,:]).reshape((28,28))\n",
    "plt.imshow(tmpimg,'gray')   "
   ]
  },
  {
   "cell_type": "code",
   "execution_count": null,
   "metadata": {},
   "outputs": [],
   "source": [
    "\n"
   ]
  },
  {
   "cell_type": "code",
   "execution_count": 9,
   "metadata": {
    "tags": []
   },
   "outputs": [
    {
     "name": "stdout",
     "output_type": "stream",
     "text": [
      "W3D shape Wlist[0]:(16, 3, 3)\n"
     ]
    },
    {
     "data": {
      "image/png": "[encoded data removed]",
      "text/plain": [
       "<Figure size 640x480 with 16 Axes>"
      ]
     },
     "metadata": {},
     "output_type": "display_data"
    },
    {
     "name": "stdout",
     "output_type": "stream",
     "text": [
      "done plotting weights mosaic\n"
     ]
    }
   ],
   "source": [
    "# ------------ GET WEIGHTS From Convolution Layer and make mosaic image \n",
    "Wlist   =mymodel.layers[0].get_weights()      \n",
    "W3D     =np.squeeze(Wlist[0])\n",
    "W3Dchan =W3D.swapaxes(1,2).swapaxes(0,1)  #get the channels as 1st dimension;\n",
    "print(\"W3D shape Wlist[0]:\"+str(W3Dchan.shape))\n",
    "\n",
    "#plot mosaic of filters of \n",
    "ncol =4\n",
    "nrow =np.ceil(16/ncol).astype(int)   #assume 16 is number of filters\n",
    "plt.figure()\n",
    "for i in range(W3Dchan.shape[0]):\n",
    "   plt.subplot(nrow,ncol,i+1)\n",
    "   plt.imshow(W3Dchan[i],'gray')\n",
    "   plt.axis('off')\n",
    "\n",
    "plt.show()\n",
    "print('done plotting weights mosaic')"
   ]
  },
  {
   "cell_type": "code",
   "execution_count": 10,
   "metadata": {
    "tags": []
   },
   "outputs": [],
   "source": [
    "#"
   ]
  },
  {
   "cell_type": "code",
   "execution_count": 11,
   "metadata": {
    "tags": []
   },
   "outputs": [
    {
     "name": "stdout",
     "output_type": "stream",
     "text": [
      "1/1 [==============================] - 0s 157ms/step\n",
      "There are  6 layers with output activations\n"
     ]
    }
   ],
   "source": [
    "#  ---------------- NOW Visualize the activations for the first training example --------\n",
    "#   1. gather activations from the model layers\n",
    "# -------------------------------------------------------------------------\n",
    "import numpy as np\n",
    "\n",
    "layer_outputs     = [layer.output for layer in mymodel.layers[:]]\n",
    "my_model_actvtns  = keras.models.Model(inputs=mymodel.input, outputs=layer_outputs)\n",
    "x                 = np.expand_dims(X_train[0],0)           #set up a 4D input of 1 image training set \n",
    "my_actvtns_output = my_model_actvtns.predict(x)   #for each image get predictions/activatns\n",
    "\n",
    "print('There are ',str(len(my_actvtns_output))+ ' layers with output activations')\n",
    "\n"
   ]
  },
  {
   "cell_type": "code",
   "execution_count": 12,
   "metadata": {
    "scrolled": true,
    "tags": []
   },
   "outputs": [
    {
     "data": {
      "image/png": "[encoded data removed]",
      "text/plain": [
       "<Figure size 640x480 with 16 Axes>"
      ]
     },
     "metadata": {},
     "output_type": "display_data"
    },
    {
     "name": "stdout",
     "output_type": "stream",
     "text": [
      "done plotting layer1 activation output mosaic\n"
     ]
    }
   ],
   "source": [
    "# 2.  Now output a mosaic of layer 1\n",
    "layeroutput3D      = np.squeeze(my_actvtns_output[0]) #<<---- -try different layer output     \n",
    "ncol =4\n",
    "nrow =np.ceil(16/ncol).astype(int)\n",
    "plt.figure()\n",
    "for i in range(layeroutput3D.shape[2]):  \n",
    "   plt.subplot(nrow,ncol,i+1)\n",
    "   plt.imshow(layeroutput3D[:,:,i],'gray')\n",
    "   plt.axis('off')\n",
    "#plt.savefig(\"test.png\", bbox_inches='tight')\n",
    "plt.show()\n",
    "print('done plotting layer1 activation output mosaic')\n"
   ]
  },
  {
   "cell_type": "code",
   "execution_count": null,
   "metadata": {},
   "outputs": [],
   "source": []
  },
  {
   "cell_type": "code",
   "execution_count": null,
   "metadata": {},
   "outputs": [],
   "source": []
  }
 ],
 "metadata": {
  "kernelspec": {
   "display_name": "Python 3 (ipykernel)",
   "language": "python",
   "name": "python3"
  },
  "language_info": {
   "codemirror_mode": {
    "name": "ipython",
    "version": 3
   },
   "file_extension": ".py",
   "mimetype": "text/x-python",
   "name": "python",
   "nbconvert_exporter": "python",
   "pygments_lexer": "ipython3",
   "version": "3.9.18"
  }
 },
 "nbformat": 4,
 "nbformat_minor": 4
}
